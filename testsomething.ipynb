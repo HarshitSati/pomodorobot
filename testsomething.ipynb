{
 "cells": [
  {
   "cell_type": "code",
   "execution_count": 85,
   "metadata": {},
   "outputs": [
    {
     "ename": "TypeError",
     "evalue": "read_csv() got an unexpected keyword argument 'reset_index'",
     "output_type": "error",
     "traceback": [
      "\u001b[1;31m---------------------------------------------------------------------------\u001b[0m",
      "\u001b[1;31mTypeError\u001b[0m                                 Traceback (most recent call last)",
      "Cell \u001b[1;32mIn[85], line 2\u001b[0m\n\u001b[0;32m      1\u001b[0m \u001b[39mimport\u001b[39;00m \u001b[39mpandas\u001b[39;00m \u001b[39mas\u001b[39;00m \u001b[39mpd\u001b[39;00m\n\u001b[1;32m----> 2\u001b[0m df \u001b[39m=\u001b[39m pd\u001b[39m.\u001b[39;49mread_csv(\u001b[39m\"\u001b[39;49m\u001b[39mdata/pomo_data.csv\u001b[39;49m\u001b[39m\"\u001b[39;49m,reset_index\u001b[39m=\u001b[39;49m \u001b[39mTrue\u001b[39;49;00m)\n",
      "File \u001b[1;32mc:\\VS Code\\Pomodoro Bot\\pomodorobot\\.venv\\Lib\\site-packages\\pandas\\util\\_decorators.py:211\u001b[0m, in \u001b[0;36mdeprecate_kwarg.<locals>._deprecate_kwarg.<locals>.wrapper\u001b[1;34m(*args, **kwargs)\u001b[0m\n\u001b[0;32m    209\u001b[0m     \u001b[39melse\u001b[39;00m:\n\u001b[0;32m    210\u001b[0m         kwargs[new_arg_name] \u001b[39m=\u001b[39m new_arg_value\n\u001b[1;32m--> 211\u001b[0m \u001b[39mreturn\u001b[39;00m func(\u001b[39m*\u001b[39;49margs, \u001b[39m*\u001b[39;49m\u001b[39m*\u001b[39;49mkwargs)\n",
      "File \u001b[1;32mc:\\VS Code\\Pomodoro Bot\\pomodorobot\\.venv\\Lib\\site-packages\\pandas\\util\\_decorators.py:331\u001b[0m, in \u001b[0;36mdeprecate_nonkeyword_arguments.<locals>.decorate.<locals>.wrapper\u001b[1;34m(*args, **kwargs)\u001b[0m\n\u001b[0;32m    325\u001b[0m \u001b[39mif\u001b[39;00m \u001b[39mlen\u001b[39m(args) \u001b[39m>\u001b[39m num_allow_args:\n\u001b[0;32m    326\u001b[0m     warnings\u001b[39m.\u001b[39mwarn(\n\u001b[0;32m    327\u001b[0m         msg\u001b[39m.\u001b[39mformat(arguments\u001b[39m=\u001b[39m_format_argument_list(allow_args)),\n\u001b[0;32m    328\u001b[0m         \u001b[39mFutureWarning\u001b[39;00m,\n\u001b[0;32m    329\u001b[0m         stacklevel\u001b[39m=\u001b[39mfind_stack_level(),\n\u001b[0;32m    330\u001b[0m     )\n\u001b[1;32m--> 331\u001b[0m \u001b[39mreturn\u001b[39;00m func(\u001b[39m*\u001b[39;49margs, \u001b[39m*\u001b[39;49m\u001b[39m*\u001b[39;49mkwargs)\n",
      "\u001b[1;31mTypeError\u001b[0m: read_csv() got an unexpected keyword argument 'reset_index'"
     ]
    }
   ],
   "source": [
    "import pandas as pd\n",
    "df = pd.read_csv(\"data/pomo_data.csv\")\n"
   ]
  },
  {
   "cell_type": "code",
   "execution_count": 80,
   "metadata": {},
   "outputs": [],
   "source": [
    "\n",
    "pomo_data = {}\n",
    "\n",
    "pomo_data[101] = {\n",
    "    'member_id': 100, # Member_ID of user who started pomo\n",
    "    'pomo_time': 25, # Time per pomo\n",
    "    'number_of_pomos':3, # Number of pomos\n",
    "    'number_of_breaks': 5, # Number of breaks\n",
    "    'breaks_left': 2, # Breaks left (decremented after each break)\n",
    "    'break_time':10,  # Time for each break\n",
    "    'total_pomo_time': 50, # Total pomo time (number of pomos * pomo time)\n",
    "    'total_time':60, # Total time (total pomo time + total break time)\n",
    "    'job': None, # Main job (Finishes pomo when complete)\n",
    "    'secondary_job': None, # Secondary job (Breaks)\n",
    "    'pomo_active': False, # Whether the pomo has been started yet, when True user has started the pomo.\n",
    "    'run_time': None, # Current time when the main job should run, changes with breaks\n",
    "    'secondary_run_time': None, # Current time when the secondary job should run, changes with breaks\n",
    "    'break_status': False, # Whether the use is currently on break\n",
    "    'pause_time': None, # Time when the pomo was last paused, used to reschedule the main job.\n",
    "    'paused': False # Whether the pomo is currently paused.\n",
    "    }\n",
    "\n"
   ]
  },
  {
   "cell_type": "code",
   "execution_count": 76,
   "metadata": {},
   "outputs": [],
   "source": [
    "pomo_data_df = pd.DataFrame.from_dict(pomo_data, orient='index', columns=['member_id'])"
   ]
  },
  {
   "cell_type": "code",
   "execution_count": 77,
   "metadata": {},
   "outputs": [],
   "source": [
    "pomo_data_df = pd.DataFrame(pomo_data).T\n",
    "#df.to_csv(\"pomo_data.csv\")\n",
    "#df += pomo_data_df\n",
    "#convert csv to dict!!\n",
    "#append into dict\n",
    "#save the dict "
   ]
  },
  {
   "cell_type": "code",
   "execution_count": 84,
   "metadata": {},
   "outputs": [
    {
     "data": {
      "text/html": [
       "<div>\n",
       "<style scoped>\n",
       "    .dataframe tbody tr th:only-of-type {\n",
       "        vertical-align: middle;\n",
       "    }\n",
       "\n",
       "    .dataframe tbody tr th {\n",
       "        vertical-align: top;\n",
       "    }\n",
       "\n",
       "    .dataframe thead th {\n",
       "        text-align: right;\n",
       "    }\n",
       "</style>\n",
       "<table border=\"1\" class=\"dataframe\">\n",
       "  <thead>\n",
       "    <tr style=\"text-align: right;\">\n",
       "      <th></th>\n",
       "      <th>Unnamed: 0</th>\n",
       "      <th>break_status</th>\n",
       "      <th>break_time</th>\n",
       "      <th>breaks_left</th>\n",
       "      <th>job</th>\n",
       "      <th>member_id</th>\n",
       "      <th>number_of_breaks</th>\n",
       "      <th>number_of_pomos</th>\n",
       "      <th>pause_time</th>\n",
       "      <th>paused</th>\n",
       "      <th>pomo_active</th>\n",
       "      <th>pomo_time</th>\n",
       "      <th>run_time</th>\n",
       "      <th>secondary_job</th>\n",
       "      <th>secondary_run_time</th>\n",
       "      <th>total_pomo_time</th>\n",
       "      <th>total_time</th>\n",
       "    </tr>\n",
       "  </thead>\n",
       "  <tbody>\n",
       "    <tr>\n",
       "      <th>0</th>\n",
       "      <td>100</td>\n",
       "      <td>False</td>\n",
       "      <td>10</td>\n",
       "      <td>2</td>\n",
       "      <td>NaN</td>\n",
       "      <td>100</td>\n",
       "      <td>5</td>\n",
       "      <td>3</td>\n",
       "      <td>NaN</td>\n",
       "      <td>False</td>\n",
       "      <td>False</td>\n",
       "      <td>25</td>\n",
       "      <td>NaN</td>\n",
       "      <td>NaN</td>\n",
       "      <td>NaN</td>\n",
       "      <td>50</td>\n",
       "      <td>60</td>\n",
       "    </tr>\n",
       "  </tbody>\n",
       "</table>\n",
       "</div>"
      ],
      "text/plain": [
       "   Unnamed: 0  break_status  break_time  breaks_left  job  member_id  \\\n",
       "0         100         False          10            2  NaN        100   \n",
       "\n",
       "   number_of_breaks  number_of_pomos  pause_time  paused  pomo_active  \\\n",
       "0                 5                3         NaN   False        False   \n",
       "\n",
       "   pomo_time  run_time  secondary_job  secondary_run_time  total_pomo_time  \\\n",
       "0         25       NaN            NaN                 NaN               50   \n",
       "\n",
       "   total_time  \n",
       "0          60  "
      ]
     },
     "execution_count": 84,
     "metadata": {},
     "output_type": "execute_result"
    }
   ],
   "source": [
    "df.head()"
   ]
  },
  {
   "cell_type": "code",
   "execution_count": null,
   "metadata": {},
   "outputs": [],
   "source": []
  }
 ],
 "metadata": {
  "kernelspec": {
   "display_name": ".venv",
   "language": "python",
   "name": "python3"
  },
  "language_info": {
   "codemirror_mode": {
    "name": "ipython",
    "version": 3
   },
   "file_extension": ".py",
   "mimetype": "text/x-python",
   "name": "python",
   "nbconvert_exporter": "python",
   "pygments_lexer": "ipython3",
   "version": "3.11.1"
  },
  "orig_nbformat": 4,
  "vscode": {
   "interpreter": {
    "hash": "8677bbeb0d5c3ae3a88ee31feb58d251ab40bac5f231fad502e649d44467fdf1"
   }
  }
 },
 "nbformat": 4,
 "nbformat_minor": 2
}
